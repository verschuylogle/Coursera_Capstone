{
    "cells": [
        {
            "metadata": {},
            "cell_type": "markdown",
            "source": "##  Exploring Boston Marathon Neighborhoods\n\n##  Marge Ogle\n\n### Coursera Applied Data Science Capstone Week 4\n"
        },
        {
            "metadata": {},
            "cell_type": "markdown",
            "source": "### <b> _The defined problem_\n> A team of athletes are participating in the Boston Marathon\nSeveral of the athletes have dietary restrictions and need to find restaurants that \ncan provide their specific food needs."
        },
        {
            "metadata": {},
            "cell_type": "markdown",
            "source": "### <b> Data required\n> You will need to have the specific address of the Hotel the athletes are staying\nYou will also need to know what specific key word is accepted within Foursquare in \norder to find restaurants that provide food for Candida Sufferers.  Reviews of those \nrestaurants will need to be available so that the athletes can determine if indeed it \nis safe for them to eat.\n"
        },
        {
            "metadata": {},
            "cell_type": "code",
            "source": "# Import Required Libraries\nimport numpy as np\nimport pandas as pd\n\nimport json\n!conda install -c conda-forge geopy --yes\nfrom geopy.geocoders import Nominatim\n\nimport requests\n# transforming json file into a pandas dataframe library\nfrom pandas.io.json import json_normalize\nprint(\"Requests and json normalize completed\")\n\n# Mapping Libraries\nimport matplotlib.cm as cm\nimport matplotlib.colors as colors\nprint(\"Mapping Libraries imported\")\n\n# KMeans\nfrom sklearn.cluster import KMeans \nprint(\"KMeans finished\")\n\n# Map Rendering Library & plotting\n# !conda install -c conda-forge folium=0.50 --yes  --NOT FOUND!!! --\n!pip install folium==0.5. # per Forum discussion\n\n# libraries for displaying images\nfrom IPython.display import Image\nfrom IPython.core.display import HTML\nprint(\"IPython imports completed\")\n\nprint('Libraries Import Calls/Codes have all been executed')",
            "execution_count": 1,
            "outputs": [
                {
                    "output_type": "stream",
                    "text": "Solving environment: done\n\n## Package Plan ##\n\n  environment location: /opt/conda/envs/Python36\n\n  added / updated specs: \n    - geopy\n\n\nThe following packages will be downloaded:\n\n    package                    |            build\n    ---------------------------|-----------------\n    python_abi-3.6             |          1_cp36m           4 KB  conda-forge\n    geopy-1.22.0               |     pyh9f0ad1d_0          63 KB  conda-forge\n    ca-certificates-2020.4.5.1 |       hecc5488_0         146 KB  conda-forge\n    openssl-1.1.1g             |       h516909a_0         2.1 MB  conda-forge\n    certifi-2020.4.5.1         |   py36h9f0ad1d_0         151 KB  conda-forge\n    geographiclib-1.50         |             py_0          34 KB  conda-forge\n    ------------------------------------------------------------\n                                           Total:         2.5 MB\n\nThe following NEW packages will be INSTALLED:\n\n    geographiclib:   1.50-py_0           conda-forge\n    geopy:           1.22.0-pyh9f0ad1d_0 conda-forge\n    python_abi:      3.6-1_cp36m         conda-forge\n\nThe following packages will be UPDATED:\n\n    ca-certificates: 2020.1.1-0                      --> 2020.4.5.1-hecc5488_0     conda-forge\n    certifi:         2020.4.5.1-py36_0               --> 2020.4.5.1-py36h9f0ad1d_0 conda-forge\n    openssl:         1.1.1g-h7b6447c_0               --> 1.1.1g-h516909a_0         conda-forge\n\n\nDownloading and Extracting Packages\npython_abi-3.6       | 4 KB      | ##################################### | 100% \ngeopy-1.22.0         | 63 KB     | ##################################### | 100% \nca-certificates-2020 | 146 KB    | ##################################### | 100% \nopenssl-1.1.1g       | 2.1 MB    | ##################################### | 100% \ncertifi-2020.4.5.1   | 151 KB    | ##################################### | 100% \ngeographiclib-1.50   | 34 KB     | ##################################### | 100% \nPreparing transaction: done\nVerifying transaction: done\nExecuting transaction: done\nRequests and json normalize completed\nMapping Libraries imported\nKMeans finished\nCollecting folium==0.5.\n\u001b[?25l  Downloading https://files.pythonhosted.org/packages/07/37/456fb3699ed23caa0011f8b90d9cad94445eddc656b601e6268090de35f5/folium-0.5.0.tar.gz (79kB)\n\u001b[K     |\u2588\u2588\u2588\u2588\u2588\u2588\u2588\u2588\u2588\u2588\u2588\u2588\u2588\u2588\u2588\u2588\u2588\u2588\u2588\u2588\u2588\u2588\u2588\u2588\u2588\u2588\u2588\u2588\u2588\u2588\u2588\u2588| 81kB 8.8MB/s eta 0:00:011\n\u001b[?25hCollecting branca (from folium==0.5.)\n  Downloading https://files.pythonhosted.org/packages/13/fb/9eacc24ba3216510c6b59a4ea1cd53d87f25ba76237d7f4393abeaf4c94e/branca-0.4.1-py3-none-any.whl\nRequirement already satisfied: jinja2 in /opt/conda/envs/Python36/lib/python3.6/site-packages (from folium==0.5.) (2.10)\nRequirement already satisfied: requests in /opt/conda/envs/Python36/lib/python3.6/site-packages (from folium==0.5.) (2.21.0)\nRequirement already satisfied: six in /opt/conda/envs/Python36/lib/python3.6/site-packages (from folium==0.5.) (1.12.0)\nRequirement already satisfied: MarkupSafe>=0.23 in /opt/conda/envs/Python36/lib/python3.6/site-packages (from jinja2->folium==0.5.) (1.1.0)\nRequirement already satisfied: chardet<3.1.0,>=3.0.2 in /opt/conda/envs/Python36/lib/python3.6/site-packages (from requests->folium==0.5.) (3.0.4)\nRequirement already satisfied: certifi>=2017.4.17 in /opt/conda/envs/Python36/lib/python3.6/site-packages (from requests->folium==0.5.) (2020.4.5.1)\nRequirement already satisfied: idna<2.9,>=2.5 in /opt/conda/envs/Python36/lib/python3.6/site-packages (from requests->folium==0.5.) (2.8)\nRequirement already satisfied: urllib3<1.25,>=1.21.1 in /opt/conda/envs/Python36/lib/python3.6/site-packages (from requests->folium==0.5.) (1.24.1)\nBuilding wheels for collected packages: folium\n  Building wheel for folium (setup.py) ... \u001b[?25ldone\n\u001b[?25h  Stored in directory: /home/dsxuser/.cache/pip/wheels/f8/98/ff/954791afc47740d554f0d9e5885fa09dd60c2265d42578e665\nSuccessfully built folium\nInstalling collected packages: branca, folium\nSuccessfully installed branca-0.4.1 folium-0.5.0\nIPython imports completed\nLibraries Import Calls/Codes have all been executed\n",
                    "name": "stdout"
                }
            ]
        },
        {
            "metadata": {},
            "cell_type": "code",
            "source": "# Define Foursquare Credentials and Version\nCLIENT_ID = 'PDDJVPK5ODVC5NHV5XMV3YAVE1SDL3AY5EQV4ABGSPHA2R12'\nCLIENT_SECRET = 'NRNR1IRFQ3IYKKUWLQTHCXPMK2UV4RCJ2G2KJHPU3GVQMLVN'\nVERSION = '20180604'\nLIMIT = 30\nprint('Your Credentials: ')\nprint('Client_id = ' + CLIENT_ID)\nprint('Client_secret = ' + CLIENT_SECRET)",
            "execution_count": 2,
            "outputs": [
                {
                    "output_type": "stream",
                    "text": "Your Credentials: \nClient_id = PDDJVPK5ODVC5NHV5XMV3YAVE1SDL3AY5EQV4ABGSPHA2R12\nClient_secret = NRNR1IRFQ3IYKKUWLQTHCXPMK2UV4RCJ2G2KJHPU3GVQMLVN\n",
                    "name": "stdout"
                }
            ]
        },
        {
            "metadata": {},
            "cell_type": "markdown",
            "source": "###### Let's assume you are staying at a Hotel in preparation for the Boston Marathon.\n###### Using the Hotel address, we will get the Latitude and Longitude\n\n###### The Hotel is the Mandarin Oriental in Boston\n###### Let's explore the area"
        },
        {
            "metadata": {},
            "cell_type": "code",
            "source": "address = '776 Boylston St, Boston, MA'\n\ngeolocator = Nominatim(user_agent=\"Boston4sq_agent\")\nlocation = geolocator.geocode(address)\nlatitude = location.latitude\nlongitude = location.longitude\nprint('Latitude: ', latitude)\nprint('Longitude: ', longitude)",
            "execution_count": 5,
            "outputs": [
                {
                    "output_type": "stream",
                    "text": "Latitude:  42.348871\nLongitude:  -71.081402\n",
                    "name": "stdout"
                }
            ]
        },
        {
            "metadata": {},
            "cell_type": "markdown",
            "source": "## Let's use Foursquare to explore the area\n\n### We will need to find Gluten-Free Restaurants for the guests"
        },
        {
            "metadata": {},
            "cell_type": "code",
            "source": "search_query = 'Gluten-Free'\nradius = 500\nprint(search_query + '.....OK!')",
            "execution_count": 1,
            "outputs": [
                {
                    "output_type": "stream",
                    "text": "Gluten-Free.....OK!\n",
                    "name": "stdout"
                }
            ]
        },
        {
            "metadata": {
                "scrolled": false
            },
            "cell_type": "code",
            "source": "\n# Define the corresponding URL\nurl = 'https://api.foursquare.com/v2/venues/search?ll={},{}&client_id={}&client_secret{}&V={}&query={}&radius={}&limit={}'.format(CLIENT_ID, CLIENT_SECRET, latitude, longitude, VERSION,search_query, radius, LIMIT)\n\nprint('URL: ', url)",
            "execution_count": 9,
            "outputs": [
                {
                    "output_type": "stream",
                    "text": "URL:  https://api.foursquare.com/v2/venues/search?ll=PDDJVPK5ODVC5NHV5XMV3YAVE1SDL3AY5EQV4ABGSPHA2R12,NRNR1IRFQ3IYKKUWLQTHCXPMK2UV4RCJ2G2KJHPU3GVQMLVN&client_id=42.348871&client_secret-71.081402&V=20180604&query=Vegetarian&radius=500&limit=30\n",
                    "name": "stdout"
                }
            ]
        },
        {
            "metadata": {},
            "cell_type": "code",
            "source": "# Using the GET Request, examine the results\n\nresults = requests.get(url).json()\nresults\n\n",
            "execution_count": 10,
            "outputs": [
                {
                    "output_type": "execute_result",
                    "execution_count": 10,
                    "data": {
                        "text/plain": "{'meta': {'code': 400,\n  'errorType': 'invalid_auth',\n  'errorDetail': 'Missing access credentials. See https://developer.foursquare.com/docs/api/configuration/authentication for details.',\n  'requestId': '5ecd4ec0bae9a2001b4122eb'},\n 'response': {}}"
                    },
                    "metadata": {}
                }
            ]
        },
        {
            "metadata": {},
            "cell_type": "code",
            "source": "# assign relevant part off JSON to venues\nvenues = results['response']['venues']\n\n# transform venues into a dataframe\nBoston_df = json_normalize(venues)\nBoston_df.head()",
            "execution_count": null,
            "outputs": []
        }
    ],
    "metadata": {
        "kernelspec": {
            "name": "python3",
            "display_name": "Python 3.6",
            "language": "python"
        },
        "language_info": {
            "name": "python",
            "version": "3.6.9",
            "mimetype": "text/x-python",
            "codemirror_mode": {
                "name": "ipython",
                "version": 3
            },
            "pygments_lexer": "ipython3",
            "nbconvert_exporter": "python",
            "file_extension": ".py"
        }
    },
    "nbformat": 4,
    "nbformat_minor": 1
}